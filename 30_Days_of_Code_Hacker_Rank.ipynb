{
  "nbformat": 4,
  "nbformat_minor": 0,
  "metadata": {
    "colab": {
      "name": "30 Days of Code_Hacker_Rank.ipynb",
      "provenance": [],
      "collapsed_sections": [],
      "include_colab_link": true
    },
    "kernelspec": {
      "display_name": "Python 3",
      "name": "python3"
    },
    "language_info": {
      "name": "python"
    },
    "accelerator": "GPU"
  },
  "cells": [
    {
      "cell_type": "markdown",
      "metadata": {
        "id": "view-in-github",
        "colab_type": "text"
      },
      "source": [
        "<a href=\"https://colab.research.google.com/github/aymenhmid/30_Days_of_Code_HackerRank/blob/main/30_Days_of_Code_Hacker_Rank.ipynb\" target=\"_parent\"><img src=\"https://colab.research.google.com/assets/colab-badge.svg\" alt=\"Open In Colab\"/></a>"
      ]
    },
    {
      "cell_type": "markdown",
      "metadata": {
        "id": "BqqVUoDX0u_6"
      },
      "source": [
        "#Day 0: Hello, World."
      ]
    },
    {
      "cell_type": "code",
      "metadata": {
        "colab": {
          "base_uri": "https://localhost:8080/"
        },
        "id": "Sy9zme3Y0txB",
        "outputId": "382be680-1a0d-444b-e226-dbb4c1c43c86"
      },
      "source": [
        "# Read a full line of input from stdin and save it to our dynamically typed variable, input_string.\n",
        "input_string = input()\n",
        "\n",
        "# Print a string literal saying \"Hello, World.\" to stdout.\n",
        "print('Hello, World.')\n",
        "\n",
        "# TODO: Write a line of code here that prints the contents of input_string to stdout.\n",
        "print(input_string)"
      ],
      "execution_count": 2,
      "outputs": [
        {
          "output_type": "stream",
          "name": "stdout",
          "text": [
            "Welcome to 30 Days of Code!\n",
            "Hello, World.\n",
            "Welcome to 30 Days of Code!\n"
          ]
        }
      ]
    },
    {
      "cell_type": "markdown",
      "metadata": {
        "id": "d8gd-tNc1g5s"
      },
      "source": [
        "#Day 1: Data Types"
      ]
    },
    {
      "cell_type": "code",
      "metadata": {
        "id": "mZ8sbWpD1wgS"
      },
      "source": [
        "i = 4\n",
        "d = 4.0\n",
        "s = 'HackerRank '\n",
        "# Declare second integer, double, and String variables.\n",
        "\n",
        "# Read and save an integer, double, and String to your variables.\n",
        "x=int(input())\n",
        "d1=float(input())\n",
        "ss=str(input())\n",
        "# Print the sum of both integer variables on a new line.\n",
        "print(i+x)\n",
        "\n",
        "\n",
        "# Print the sum of the double variables on a new line.\n",
        "print(d+d1)\n",
        "# Concatenate and print the String variables on a new line\n",
        "print(s+ss)\n",
        "# The 's' variable above should be printed first."
      ],
      "execution_count": null,
      "outputs": []
    },
    {
      "cell_type": "markdown",
      "metadata": {
        "id": "HlAPwJZM19Zm"
      },
      "source": [
        "#Day 2: Operators"
      ]
    },
    {
      "cell_type": "code",
      "metadata": {
        "id": "TINSmbeS2Hng"
      },
      "source": [
        "#!/bin/python3\n",
        "\n",
        "import math\n",
        "import os\n",
        "import random\n",
        "import re\n",
        "import sys\n",
        "\n",
        "#\n",
        "# Complete the 'solve' function below.\n",
        "#\n",
        "# The function accepts following parameters:\n",
        "#  1. DOUBLE meal_cost\n",
        "#  2. INTEGER tip_percent\n",
        "#  3. INTEGER tax_percent\n",
        "#\n",
        "\n",
        "def solve(meal_cost, tip_percent, tax_percent):\n",
        "    \n",
        "    # Write your code here\n",
        "    tip_value=meal_cost*(tip_percent*0.01)\n",
        "    tax=meal_cost*(tax_percent*0.01)\n",
        "    res=meal_cost+tip_value+tax\n",
        "    return round(res)\n",
        "\n",
        "if __name__ == '__main__':\n",
        "    meal_cost = float(input().strip())\n",
        "\n",
        "    tip_percent = int(input().strip())\n",
        "\n",
        "    tax_percent = int(input().strip())\n",
        "\n",
        "    x=solve(meal_cost, tip_percent, tax_percent)\n",
        "    print(x)"
      ],
      "execution_count": null,
      "outputs": []
    },
    {
      "cell_type": "markdown",
      "metadata": {
        "id": "OlE9vHPU2R03"
      },
      "source": [
        "#Day 3: Intro to Conditional Statements"
      ]
    },
    {
      "cell_type": "code",
      "metadata": {
        "id": "CmSN1C0f2RY6"
      },
      "source": [
        "#!/bin/python3\n",
        "\n",
        "import math\n",
        "import os\n",
        "import random\n",
        "import re\n",
        "import sys\n",
        "\n",
        "\n",
        "\n",
        "if __name__ == '__main__':\n",
        "    N = int(input().strip())\n",
        "    if N%2==1 or(N%2==0 and N in range(6,21)):\n",
        "        print('Weird')\n",
        "    elif (N%2==0 and N in range(2,6)) or (N%2==0 and N>20):\n",
        "        print('Not Weird')"
      ],
      "execution_count": null,
      "outputs": []
    },
    {
      "cell_type": "markdown",
      "metadata": {
        "id": "zWKj0HOJ2lu3"
      },
      "source": [
        "#Day 4: Class vs. Instance"
      ]
    },
    {
      "cell_type": "code",
      "metadata": {
        "id": "4mu4x3bc2rN_"
      },
      "source": [
        "class Person:\n",
        "    def __init__(self,initialAge):\n",
        "        # Add some more code to run some checks on initialAge\n",
        "        if initialAge<0:\n",
        "            \n",
        "            self.age=0\n",
        "            print('Age is not valid, setting age to 0.')\n",
        "            \n",
        "            \n",
        "        else:\n",
        "            self.age=initialAge\n",
        "    def amIOld(self):\n",
        "        # Do some computations in here and print out the correct statement to the console\n",
        "        if self.age<13:\n",
        "            print('You are young.')\n",
        "        elif self.age>=13 and self.age<18:\n",
        "            print('You are a teenager.')\n",
        "        else:\n",
        "            print('You are old.')\n",
        "    def yearPasses(self):\n",
        "        # Increment the age of the person in here\n",
        "        self.age+=1\n",
        "        \n",
        "        \n",
        "\n",
        "t = int(input())\n",
        "for i in range(0, t):\n",
        "    age = int(input())         \n",
        "    p = Person(age)  \n",
        "    p.amIOld()\n",
        "    for j in range(0, 3):\n",
        "        p.yearPasses()       \n",
        "    p.amIOld()\n",
        "    print(\"\")\n",
        "        "
      ],
      "execution_count": null,
      "outputs": []
    },
    {
      "cell_type": "markdown",
      "metadata": {
        "id": "HQFULuE13May"
      },
      "source": [
        "#Day 5: Loops\n",
        "\n"
      ]
    },
    {
      "cell_type": "code",
      "metadata": {
        "colab": {
          "base_uri": "https://localhost:8080/"
        },
        "id": "UMCE1xQ03QYu",
        "outputId": "b210ea06-fb78-4828-a5f3-5acd5bf4ffd1"
      },
      "source": [
        "#!/bin/python3\n",
        "\n",
        "import math\n",
        "import os\n",
        "import random\n",
        "import re\n",
        "import sys\n",
        "\n",
        "\n",
        "\n",
        "if __name__ == '__main__':\n",
        "    n = int(input().strip())\n",
        "    for i in range(1,11):\n",
        "        print(str(n)+' x '+str(i)+' = '+str(n*i))"
      ],
      "execution_count": 8,
      "outputs": [
        {
          "output_type": "stream",
          "name": "stdout",
          "text": [
            "5\n",
            "5 x 1 = 5\n",
            "5 x 2 = 10\n",
            "5 x 3 = 15\n",
            "5 x 4 = 20\n",
            "5 x 5 = 25\n",
            "5 x 6 = 30\n",
            "5 x 7 = 35\n",
            "5 x 8 = 40\n",
            "5 x 9 = 45\n",
            "5 x 10 = 50\n"
          ]
        }
      ]
    },
    {
      "cell_type": "markdown",
      "metadata": {
        "id": "4693-9yg3glb"
      },
      "source": [
        "#Day 6: Let's Review"
      ]
    },
    {
      "cell_type": "code",
      "metadata": {
        "id": "1dBJnYjU3Zlr"
      },
      "source": [
        "def seperate_ch(ch):\n",
        "    odd=\"\"\n",
        "    even=\"\"\n",
        "    for i in range(len(ch)):\n",
        "        if i%2==0:\n",
        "            odd=odd+ch[i]\n",
        "        else:\n",
        "            even=even+ch[i]\n",
        "    return [odd,even]\n",
        "if __name__ == \"__main__\":\n",
        "    \n",
        "    a=int(input())\n",
        "    for i in range(a):\n",
        "        x=seperate_ch(str(input()))\n",
        "        print(x[0]+' '+x[1])"
      ],
      "execution_count": null,
      "outputs": []
    },
    {
      "cell_type": "markdown",
      "metadata": {
        "id": "XZA7pj1B3te0"
      },
      "source": [
        "#Day 7: Arrays\n",
        "\n"
      ]
    },
    {
      "cell_type": "code",
      "metadata": {
        "id": "uOhoPkMy3o-w"
      },
      "source": [
        "#!/bin/python3\n",
        "\n",
        "import math\n",
        "import os\n",
        "import random\n",
        "import re\n",
        "import sys\n",
        "\n",
        "\n",
        "\n",
        "if __name__ == '__main__':\n",
        "    n = int(input().strip())\n",
        "\n",
        "    arr = list(map(int, input().rstrip().split()))\n",
        "    for i in range(n):\n",
        "        print(str(arr[n-i-1]), end =\" \")"
      ],
      "execution_count": null,
      "outputs": []
    },
    {
      "cell_type": "markdown",
      "metadata": {
        "id": "fXf_tAZe355i"
      },
      "source": [
        "#Day 8: Dictionaries and Maps\n",
        "\n"
      ]
    },
    {
      "cell_type": "code",
      "metadata": {
        "id": "KtUXcfeH35iR"
      },
      "source": [
        "if __name__ == \"__main__\" :\n",
        "    n=int(input())\n",
        "    D={}\n",
        "    for i in range(n):\n",
        "        entry=input().split()\n",
        "        D[entry[0]]=entry[1]\n",
        "        \n",
        "    \n",
        "    while True:\n",
        "        try:\n",
        "    \n",
        "    \n",
        "\n",
        "            query=input()\n",
        "            if query in D:\n",
        "                print(query+'='+D[query])\n",
        "            else:\n",
        "                print('Not found')\n",
        "        except EOFError:\n",
        "            break"
      ],
      "execution_count": null,
      "outputs": []
    },
    {
      "cell_type": "markdown",
      "metadata": {
        "id": "E6tpyq3x4A_Q"
      },
      "source": [
        "#Day 9: Recursion 3"
      ]
    },
    {
      "cell_type": "code",
      "metadata": {
        "id": "PsYWg-xx4GyT"
      },
      "source": [
        "#!/bin/python3\n",
        "import math\n",
        "import os\n",
        "import random\n",
        "import re\n",
        "import sys\n",
        "\n",
        "#\n",
        "# Complete the 'factorial' function below.\n",
        "# The function accepts INTEGER n as parameter.\n",
        "#\n",
        "\n",
        "def factorial(n):\n",
        "    # Write your code here\n",
        "    if n<=1:\n",
        "        return 1\n",
        "    else:\n",
        "        return n*factorial(n-1)\n",
        "\n",
        "if __name__ == '__main__':\n",
        "    #fptr = open(os.environ['OUTPUT_PATH'], 'w')\n",
        "    fptr = sys.stdout \n",
        "\n",
        "    n = int(input().strip())\n",
        "\n",
        "    result = factorial(n)\n",
        "\n",
        "    #fptr.write(str(result) + '\\n')\n",
        "\n",
        "    #fptr.close()\n",
        "    print(result)"
      ],
      "execution_count": null,
      "outputs": []
    },
    {
      "cell_type": "markdown",
      "metadata": {
        "id": "3CF4zO7T5I5p"
      },
      "source": [
        "#Day 10: Binary Numbers\n",
        "\n"
      ]
    },
    {
      "cell_type": "code",
      "metadata": {
        "id": "Bki_RvNl5KAo"
      },
      "source": [
        "#!/bin/python3\n",
        "\n",
        "import math\n",
        "import os\n",
        "import random\n",
        "import re\n",
        "import sys\n",
        "\n",
        "def dec_to_bin(x):\n",
        "    return int(bin(x)[2:])\n",
        "\n",
        "\n",
        "def maxRepeating(str):\n",
        " \n",
        "    l = len(str)\n",
        "    count = 0\n",
        " \n",
        "    # Find the maximum repeating\n",
        "    # character starting from str[i]\n",
        "    res = str[0]\n",
        "    for i in range(l):\n",
        "         \n",
        "        cur_count = 1\n",
        "        for j in range(i + 1, l):\n",
        "     \n",
        "            if (str[i] != str[j]):\n",
        "                break\n",
        "            cur_count += 1\n",
        " \n",
        "        # Update result if required\n",
        "        if cur_count > count :\n",
        "            count = cur_count\n",
        "            res = str[i]\n",
        "    return count\n",
        "if __name__ == '__main__':\n",
        "    n = int(input().strip())\n",
        "    k=str(dec_to_bin(n))\n",
        "    print( maxRepeating(k))"
      ],
      "execution_count": null,
      "outputs": []
    },
    {
      "cell_type": "markdown",
      "metadata": {
        "id": "I9Muj71A6HL8"
      },
      "source": [
        "#Day 11: 2D Arrays\n",
        "\n"
      ]
    },
    {
      "cell_type": "code",
      "metadata": {
        "id": "oFFvY26g6YZa"
      },
      "source": [
        ""
      ],
      "execution_count": null,
      "outputs": []
    }
  ]
}